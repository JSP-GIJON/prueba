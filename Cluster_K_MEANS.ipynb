{
 "cells": [
  {
   "cell_type": "markdown",
   "id": "3979955f",
   "metadata": {},
   "source": [
    "# CLUSTER para agrupar las paradas de los hornos en conjuntos en función de su duración.\n",
    "\n",
    "## El objetivo principal es calcular las fronteras temporales entre cada tipo de parada. En posteriores versiones se buscará definir el tipo dominante en cada cluster, probablemente con otra estrategia diferente a K-MEANS\n",
    "\n",
    "## Se escoge K-MEANS porque previamente se decide el número de clusters tras un estudio visual.\n",
    "\n",
    "## Se crean grupos en función de la duración de la parada. En el modelo de la parada del horno, las paradas, en función de su duración tendrán las características del tipo dominante en cada agrupamiento por duración\n",
    "\n",
    "## Se calcula la frontera temporal entre tipos de parada en función de los centros de cada cluster y de sus bordes. "
   ]
  },
  {
   "cell_type": "code",
   "execution_count": 1,
   "id": "9be3f6d9",
   "metadata": {},
   "outputs": [],
   "source": [
    "# external packages\n",
    "import datetime as dt\n",
    "import pandas as pd\n",
    "import numpy as np\n",
    "import math\n",
    "import operator\n",
    "\n",
    "%matplotlib widget\n",
    "import matplotlib.pyplot as plt\n",
    "np.seterr(divide='ignore', invalid='ignore')\n",
    "\n",
    "from matplotlib.dates import drange\n",
    "import datetime \n",
    "import itertools"
   ]
  },
  {
   "cell_type": "code",
   "execution_count": 30,
   "id": "c64bc72b",
   "metadata": {},
   "outputs": [],
   "source": [
    "from sklearn.cluster import KMeans \n",
    "import sklearn.utils\n",
    "from sklearn.preprocessing import StandardScaler"
   ]
  },
  {
   "cell_type": "markdown",
   "id": "6a9e66ed",
   "metadata": {},
   "source": [
    "# Cluster K-MEANS"
   ]
  },
  {
   "cell_type": "markdown",
   "id": "64ba2135",
   "metadata": {},
   "source": [
    "### Se crea el cluster como un elemento previo de preprocesamiento del algoritmo K-MEANS"
   ]
  },
  {
   "cell_type": "code",
   "execution_count": 1,
   "id": "04a28ef2",
   "metadata": {},
   "outputs": [],
   "source": [
    "def crea_cluster_previo(parada_n_HH):\n",
    "    print(\"\\n\")\n",
    "    print(\"CLUSTER CREADO en función de la duración de la parada\")\n",
    "    duracion_ = [p.duracion_parada for p in parada_n_HH]\n",
    "    consumo_ = [p.caida_media for p in parada_n_HH]\n",
    "#     plt.figure()\n",
    "#     plt.scatter(duracion_, consumo_  ,c='DarkBlue')\n",
    "#     plt.title('Correlación entre duración parada horno  y caida del consumo')\n",
    "#     plt.ylabel('KW bajada')\n",
    "#     plt.xlabel('Horas')\n",
    "\n",
    "    cluster_paradas_HH = pd.DataFrame({'duracion' : duracion_ , 'consumo' : consumo_, 'Clus_Db':np.zeros(len(consumo_)) })\n",
    "    cluster_paradas_HH.to_excel('cluster_paradas_HH.xlsx', engine='xlsxwriter')  \n",
    "    filename='cluster_paradas_HH.xlsx'\n",
    "    #Read csv\n",
    "    cluster_paradas_HH = pd.read_excel(filename)\n",
    "    cluster_paradas_HH  = cluster_paradas_HH .drop(cluster_paradas_HH .columns[[0]], axis=1)\n",
    "    #print(cluster_paradas_HH.head(5))\n",
    "    return cluster_paradas_HH"
   ]
  },
  {
   "cell_type": "markdown",
   "id": "b4937a58",
   "metadata": {},
   "source": [
    "### Ahora se crean los cluster según el algoritmo K-MEANS, se obitneen los valores máximos y mínimos de duración para calcular posteriormente las fronteras entre clusters"
   ]
  },
  {
   "cell_type": "code",
   "execution_count": 2,
   "id": "941b2a42",
   "metadata": {},
   "outputs": [],
   "source": [
    "def cluster_KMEANS(cluster_paradas_HH, clusterNum):\n",
    "    X = cluster_paradas_HH.values[:,:-2] # Seleccionar SOLO por duracion de parada\n",
    "    #X = cluster_paradas_HH.values[:,:-1] # Seleccionar por duracion y por consumo\n",
    "    X = np.nan_to_num(X)\n",
    "    \n",
    "    k_means = KMeans(init = \"k-means++\", n_clusters = clusterNum, n_init = 10)\n",
    "    k_means.fit(X)\n",
    "    labels = k_means.labels_\n",
    "    cluster_paradas_HH[\"Clus_Db\"] = labels #Asignacion de la categoria a cada elemento del Cluster\n",
    "\n",
    "    unique_labels = set(labels)\n",
    "    print(clusterNum)\n",
    "    print(labels)\n",
    "    print(unique_labels)\n",
    "\n",
    "    colors = plt.cm.Spectral(np.linspace(0, 1, len(unique_labels)))\n",
    "    \n",
    "    #Visualization\n",
    "    plt.figure()\n",
    "    plt.title('K-Means Cluster Horno')\n",
    "    plt.ylabel('KW bajada')\n",
    "    plt.xlabel('Horas')\n",
    "\n",
    "    min_cluster = []\n",
    "    max_cluster = []   \n",
    "    for clust_number in set(labels):\n",
    "        c=(([0.4,0.4,0.4]) if clust_number == -1 else colors[int(clust_number)])\n",
    "        clust_set = cluster_paradas_HH[cluster_paradas_HH.Clus_Db == clust_number]                    \n",
    "        plt.scatter(clust_set.duracion, clust_set.consumo, color =c,  marker='o', s= 20, alpha = 0.85)\n",
    "        cenx=np.mean(clust_set.duracion) \n",
    "        ceny=np.mean(clust_set.consumo) \n",
    "        print (\"Cluster \"+str(clust_number)+', Avg Druacion: '+ str(np.mean(clust_set.duracion))+', Avg Consumo: '+ str(np.mean(clust_set.consumo)))\n",
    "        min_cluster.append(np.min(clust_set.duracion))\n",
    "        max_cluster.append(np.max(clust_set.duracion))\n",
    "        \n",
    "    return k_means,min_cluster,max_cluster    "
   ]
  },
  {
   "cell_type": "markdown",
   "id": "07be3058",
   "metadata": {},
   "source": [
    "### Se calculan las fronteras temporales según K-MEANS"
   ]
  },
  {
   "cell_type": "code",
   "execution_count": 1,
   "id": "e3702021",
   "metadata": {},
   "outputs": [],
   "source": [
    "def calcula_frontera_horaria_tipos(k_means,clust_number,min_cluster,max_cluster):\n",
    "    \n",
    "    Frontera_centro = []\n",
    "    for i in range(0,clust_number-1):\n",
    "        Frontera_centro.append(np.rint(((k_means.cluster_centers_[i] + k_means.cluster_centers_[i+1])/2)[0]))\n",
    "    print(\"Frontera centro\",Frontera_centro) #Referencia en los centros del cluster\n",
    "    \n",
    "    Frontera_bordes = []\n",
    "    for i in range(0,clust_number-1):\n",
    "        Frontera_bordes.append(np.rint((max_cluster[i] + min_cluster[i+1])/2))\n",
    "    print(\"Frontera bordes\",Frontera_bordes) #Referencia en los bordes del cluster\n",
    "    \n",
    "    return(Frontera_centro,Frontera_bordes)"
   ]
  }
 ],
 "metadata": {
  "kernelspec": {
   "display_name": "Python 3 (ipykernel)",
   "language": "python",
   "name": "python3"
  },
  "language_info": {
   "codemirror_mode": {
    "name": "ipython",
    "version": 3
   },
   "file_extension": ".py",
   "mimetype": "text/x-python",
   "name": "python",
   "nbconvert_exporter": "python",
   "pygments_lexer": "ipython3",
   "version": "3.9.12"
  }
 },
 "nbformat": 4,
 "nbformat_minor": 5
}
